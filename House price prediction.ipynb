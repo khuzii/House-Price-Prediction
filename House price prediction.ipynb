{
 "cells": [
  {
   "cell_type": "markdown",
   "id": "8f0506f8",
   "metadata": {},
   "source": [
    "# House Price Prediction"
   ]
  },
  {
   "cell_type": "code",
   "execution_count": 31,
   "id": "7f6cd773",
   "metadata": {},
   "outputs": [],
   "source": [
    "import numpy as np"
   ]
  },
  {
   "cell_type": "code",
   "execution_count": 32,
   "id": "84a6b55c",
   "metadata": {},
   "outputs": [],
   "source": [
    "x= np.array([1.0, 2.0, 3.0, 4.0, 5.0])\n",
    "y= np.array([200, 300, 400, 500, 600])"
   ]
  },
  {
   "cell_type": "code",
   "execution_count": 33,
   "id": "0673c109",
   "metadata": {},
   "outputs": [],
   "source": [
    "m= len(x)"
   ]
  },
  {
   "cell_type": "code",
   "execution_count": 34,
   "id": "ab364022",
   "metadata": {},
   "outputs": [
    {
     "name": "stdout",
     "output_type": "stream",
     "text": [
      "No of training examples:  5\n"
     ]
    }
   ],
   "source": [
    "print(\"No of training examples: \",m)"
   ]
  },
  {
   "cell_type": "code",
   "execution_count": 35,
   "id": "8bc9cab6",
   "metadata": {},
   "outputs": [
    {
     "name": "stdout",
     "output_type": "stream",
     "text": [
      "(x^(0), y^(0)) = (1.0, 200)\n",
      "(x^(1), y^(1)) = (2.0, 300)\n",
      "(x^(2), y^(2)) = (3.0, 400)\n",
      "(x^(3), y^(3)) = (4.0, 500)\n",
      "(x^(4), y^(4)) = (5.0, 600)\n"
     ]
    }
   ],
   "source": [
    "for i in range (m):\n",
    "    print(f\"(x^({i}), y^({i})) = ({x[i]}, {y[i]})\")"
   ]
  },
  {
   "cell_type": "code",
   "execution_count": 36,
   "id": "2d2e7bb6",
   "metadata": {},
   "outputs": [],
   "source": [
    "import matplotlib.pyplot as plt"
   ]
  },
  {
   "cell_type": "code",
   "execution_count": 37,
   "id": "a456c833",
   "metadata": {},
   "outputs": [
    {
     "data": {
      "image/png": "[encoded data removed]",
      "text/plain": [
       "<Figure size 432x288 with 1 Axes>"
      ]
     },
     "metadata": {
      "needs_background": "light"
     },
     "output_type": "display_data"
    }
   ],
   "source": [
    "plt.scatter(x,y, marker=\"x\", c=\"r\")\n",
    "plt.xlabel(\"size\")\n",
    "plt.ylabel(\"price\")\n",
    "plt.show()"
   ]
  },
  {
   "cell_type": "code",
   "execution_count": 56,
   "id": "aac77c6a",
   "metadata": {},
   "outputs": [],
   "source": [
    "# f(x)= wx+b\n",
    "w= 95\n",
    "b= 100"
   ]
  },
  {
   "cell_type": "code",
   "execution_count": 57,
   "id": "e0610bdb",
   "metadata": {},
   "outputs": [],
   "source": [
    "# Fuction Model\n",
    "def compute_model(x,w,b):\n",
    "    fx= np.zeros(m)\n",
    "    for i in range (m):\n",
    "        fx[i]= x[i]*w+b\n",
    "    return fx"
   ]
  },
  {
   "cell_type": "code",
   "execution_count": 58,
   "id": "798f22c5",
   "metadata": {},
   "outputs": [
    {
     "data": {
      "image/png": "[encoded data removed]",
      "text/plain": [
       "<Figure size 432x288 with 1 Axes>"
      ]
     },
     "metadata": {
      "needs_background": "light"
     },
     "output_type": "display_data"
    }
   ],
   "source": [
    "pred_x= compute_model(x,w,b)\n",
    "plt.plot(x, pred_x, c=\"b\", label=\"prediction\")\n",
    "plt.scatter(x, y, marker=\"x\", c=\"r\", label=\"true\")\n",
    "plt.xlabel(\"size\")\n",
    "plt.ylabel(\"price\")\n",
    "plt.legend()\n",
    "plt.show()"
   ]
  },
  {
   "cell_type": "code",
   "execution_count": null,
   "id": "7f14f951",
   "metadata": {},
   "outputs": [],
   "source": []
  }
 ],
 "metadata": {
  "kernelspec": {
   "display_name": "Python 3 (ipykernel)",
   "language": "python",
   "name": "python3"
  },
  "language_info": {
   "codemirror_mode": {
    "name": "ipython",
    "version": 3
   },
   "file_extension": ".py",
   "mimetype": "text/x-python",
   "name": "python",
   "nbconvert_exporter": "python",
   "pygments_lexer": "ipython3",
   "version": "3.9.12"
  }
 },
 "nbformat": 4,
 "nbformat_minor": 5
}
